{
  "nbformat": 4,
  "nbformat_minor": 0,
  "metadata": {
    "colab": {
      "provenance": []
    },
    "kernelspec": {
      "name": "python3",
      "display_name": "Python 3"
    },
    "language_info": {
      "name": "python"
    }
  },
  "cells": [
    {
      "cell_type": "markdown",
      "source": [
        "### Column Details\n",
        "* fixed acidity: Concentration of fixed acids like tartaric acid in g/dm³.\n",
        "* volatile acidity: Amount of acetic acid, which affects the wine's aroma, in g/dm³.\n",
        "* citric acid: Citric acid concentration, adds freshness to wine, in g/dm³.\n",
        "* residual sugar: Remaining sugar after fermentation, in g/dm³.\n",
        "* chlorides: Amount of salt in the wine, in g/dm³.\n",
        "* free sulfur dioxide: Free SO₂ to prevent microbial growth and oxidation, in mg/dm³.\n",
        "* total sulfur dioxide: Sum of free and bound forms of SO₂, in mg/dm³.\n",
        "* density: Relative density of the wine compared to water.\n",
        "* pH: Measure of acidity or alkalinity.\n",
        "* sulphates: Potassium sulphate content, contributes to wine preservation, in g/dm³.\n",
        "* alcohol: Alcohol content by volume (%).\n",
        "* quality: Quality score assigned by tasters, on a scale from 0 to 10."
      ],
      "metadata": {
        "id": "clnZM5loM6Fq"
      }
    },
    {
      "cell_type": "code",
      "execution_count": null,
      "metadata": {
        "id": "BjbfToV0M4Kj"
      },
      "outputs": [],
      "source": []
    }
  ]
}